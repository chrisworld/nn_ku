{
 "cells": [
  {
   "cell_type": "markdown",
   "metadata": {},
   "source": [
    "# Tensorflow Tutorial (MNIST)\n",
    "## Neural Networks (TU Graz 2018)\n",
    "(Adapted from the documentation of tensorflow, www.tensorflow.org)\n",
    "\n",
    "\n",
    "In this tutorial weclassify images of digits from 0 to 9.\n",
    "We use tensorflow and its capacity to perform symbolic calculus to implement a gradient descent optimization in a few lines of code. In general the main advantages of tensorflow are the following:\n",
    "- Generation of C++ code that will be run on demand\n",
    "- Symbolic calculus with automatic computation of gradients\n",
    "- Transparent implementation on GPUs"
   ]
  },
  {
   "cell_type": "code",
   "execution_count": 1,
   "metadata": {},
   "outputs": [],
   "source": [
    "%matplotlib inline"
   ]
  },
  {
   "cell_type": "markdown",
   "metadata": {},
   "source": [
    "First import the packages and the MNIST dataset."
   ]
  },
  {
   "cell_type": "code",
   "execution_count": 2,
   "metadata": {
    "scrolled": true
   },
   "outputs": [
    {
     "name": "stderr",
     "output_type": "stream",
     "text": [
      "C:\\Users\\Legi\\Anaconda3\\lib\\site-packages\\h5py\\__init__.py:36: FutureWarning: Conversion of the second argument of issubdtype from `float` to `np.floating` is deprecated. In future, it will be treated as `np.float64 == np.dtype(float).type`.\n",
      "  from ._conv import register_converters as _register_converters\n"
     ]
    },
    {
     "name": "stdout",
     "output_type": "stream",
     "text": [
      "Extracting MNIST_data/train-images-idx3-ubyte.gz\n",
      "Extracting MNIST_data/train-labels-idx1-ubyte.gz\n",
      "Extracting MNIST_data/t10k-images-idx3-ubyte.gz\n",
      "Extracting MNIST_data/t10k-labels-idx1-ubyte.gz\n"
     ]
    }
   ],
   "source": [
    "import tensorflow as tf\n",
    "import numpy as np\n",
    "import numpy.random as rd\n",
    "import matplotlib.pyplot as plt\n",
    "\n",
    "from tensorflow.examples.tutorials.mnist import input_data\n",
    "mnist = input_data.read_data_sets(\"MNIST_data/\", one_hot=True)"
   ]
  },
  {
   "cell_type": "code",
   "execution_count": 3,
   "metadata": {},
   "outputs": [
    {
     "name": "stdout",
     "output_type": "stream",
     "text": [
      "(55000, 784)\n",
      "(10000, 784)\n",
      "(55000, 10)\n",
      "(10000, 10)\n"
     ]
    }
   ],
   "source": [
    "print(mnist.train.images.shape)\n",
    "print(mnist.test.images.shape)\n",
    "print(mnist.train.labels.shape)\n",
    "print(mnist.test.labels.shape)"
   ]
  },
  {
   "cell_type": "markdown",
   "metadata": {},
   "source": [
    "Each image is interpreted as a vector of size 784, each coefficient represent the gray level of the pixels, rescaled between 0 and 1."
   ]
  },
  {
   "cell_type": "code",
   "execution_count": 4,
   "metadata": {},
   "outputs": [
    {
     "data": {
      "image/png": "[encoded data removed]",
      "text/plain": [
       "<Figure size 432x288 with 5 Axes>"
      ]
     },
     "metadata": {},
     "output_type": "display_data"
    }
   ],
   "source": [
    "fig,ax_list = plt.subplots(1,5)\n",
    "for k in range(5): ax_list[k].imshow(mnist.train.images[k,:].reshape(28,28), cmap='gray')"
   ]
  },
  {
   "cell_type": "markdown",
   "metadata": {},
   "source": [
    "To classify the images we will use a softmax model that estimates $p(y= \\text{label }| x=\\text{image})$\n",
    "- A linear transformation projects each input vector (i.e. each image) into 10 numbers using the matrix W and the bias b.\n",
    "- A softmax function changes these numbers into probabilities of remaining to each category in {0, .. 9}\n",
    "<img src=\"tf_tutorial_softmax.png\" style=\"width: 500px;\"/>\n",
    "\n",
    "In terms of matrices it can be formalized:\n",
    "- W and b are variables (tf.variable)\n",
    "- x represent the input vectors (tf.placeholder)\n",
    "- y is the output of the model (tf.Tensor also called an \"op\")\n",
    "<img src=\"tf_tutorial_softmax_matrices.png\" style=\"width: 500px;\"/>"
   ]
  },
  {
   "cell_type": "markdown",
   "metadata": {},
   "source": [
    "Note that x is a matrix and not a vector, is has shape [None,784]. The first dimension correspond to a **batch size**. Multiplying larger matrices is usually faster that multiplying small ones many times, using minibatches allows to process many images in a single matrix multiplication."
   ]
  },
  {
   "cell_type": "code",
   "execution_count": 5,
   "metadata": {},
   "outputs": [],
   "source": [
    "W = tf.Variable(rd.randn(784,10),trainable=True)\n",
    "b = tf.Variable(np.zeros(10),trainable=True)\n",
    "\n",
    "x = tf.placeholder(shape=(None,784),dtype=tf.float64)\n",
    "y = tf.nn.softmax(tf.matmul(x,W) + b)"
   ]
  },
  {
   "cell_type": "markdown",
   "metadata": {},
   "source": [
    "Define the loss function of the model. \n",
    "\n",
    "We choose the cross-entropy: $loss = - \\sum y \\log y'$"
   ]
  },
  {
   "cell_type": "code",
   "execution_count": 6,
   "metadata": {},
   "outputs": [],
   "source": [
    "y_ = tf.placeholder(shape=(None,10),dtype=tf.float64)\n",
    "cross_entropy = tf.reduce_mean(-tf.reduce_sum(y_ * tf.log(y), reduction_indices=[1]))"
   ]
  },
  {
   "cell_type": "markdown",
   "metadata": {},
   "source": [
    "Note that until now everything is symbolic. ``x,y, y_`` and ``cross_entropy`` do not have a value."
   ]
  },
  {
   "cell_type": "code",
   "execution_count": 7,
   "metadata": {},
   "outputs": [
    {
     "data": {
      "text/plain": [
       "<tf.Tensor 'Softmax:0' shape=(?, 10) dtype=float64>"
      ]
     },
     "execution_count": 7,
     "metadata": {},
     "output_type": "execute_result"
    }
   ],
   "source": [
    "y # This is called an \"op\" in tensorflow it is a symbolic tensor"
   ]
  },
  {
   "cell_type": "code",
   "execution_count": 8,
   "metadata": {},
   "outputs": [
    {
     "data": {
      "text/plain": [
       "<tf.Tensor 'gradients/add_grad/Reshape_1:0' shape=(10,) dtype=float64>"
      ]
     },
     "execution_count": 8,
     "metadata": {},
     "output_type": "execute_result"
    }
   ],
   "source": [
    "tf.gradients(cross_entropy, b)[0] # It is also possible to compute the gradient of a tensor w.r.t some other tensor"
   ]
  },
  {
   "cell_type": "markdown",
   "metadata": {},
   "source": [
    "There is even an object to compute the a step of gradient descent directly. Each time it will be run it will:\n",
    "- compute the gradient $\\frac{\\partial J}{\\partial \\theta}$ for all variable $\\theta$\n",
    "- update each varible as: $\\theta \\leftarrow \\theta - \\alpha \\frac{\\partial J}{\\partial \\theta}$"
   ]
  },
  {
   "cell_type": "code",
   "execution_count": 8,
   "metadata": {},
   "outputs": [],
   "source": [
    "train_step = tf.train.GradientDescentOptimizer(0.5).minimize(cross_entropy) # It only updates variable with it is run"
   ]
  },
  {
   "cell_type": "markdown",
   "metadata": {},
   "source": [
    "## How to actually compute the value of a tensor or assign a variable ?\n",
    "Until now all the variables are symbolic.\n",
    "How can one actually evaluate the value of a Tensor ?"
   ]
  },
  {
   "cell_type": "code",
   "execution_count": 9,
   "metadata": {},
   "outputs": [],
   "source": [
    "init = tf.global_variables_initializer() # Create an op that will initialize the variable on demand\n",
    "sess = tf.Session()\n",
    "sess.run(init) # Call for initilization"
   ]
  },
  {
   "cell_type": "markdown",
   "metadata": {},
   "source": [
    "Evaluate and assign a new value to a Variable"
   ]
  },
  {
   "cell_type": "code",
   "execution_count": 10,
   "metadata": {},
   "outputs": [
    {
     "data": {
      "text/plain": [
       "<tf.Variable 'Variable_1:0' shape=(10,) dtype=float64_ref>"
      ]
     },
     "execution_count": 10,
     "metadata": {},
     "output_type": "execute_result"
    }
   ],
   "source": [
    "b"
   ]
  },
  {
   "cell_type": "code",
   "execution_count": 11,
   "metadata": {},
   "outputs": [
    {
     "data": {
      "text/plain": [
       "array([0., 0., 0., 0., 0., 0., 0., 0., 0., 0.])"
      ]
     },
     "execution_count": 11,
     "metadata": {},
     "output_type": "execute_result"
    }
   ],
   "source": [
    "sess.run(b)"
   ]
  },
  {
   "cell_type": "code",
   "execution_count": 12,
   "metadata": {},
   "outputs": [],
   "source": [
    "change_b = tf.assign(b,np.ones(10))"
   ]
  },
  {
   "cell_type": "code",
   "execution_count": 13,
   "metadata": {},
   "outputs": [
    {
     "data": {
      "text/plain": [
       "array([0., 0., 0., 0., 0., 0., 0., 0., 0., 0.])"
      ]
     },
     "execution_count": 13,
     "metadata": {},
     "output_type": "execute_result"
    }
   ],
   "source": [
    "sess.run(b)"
   ]
  },
  {
   "cell_type": "code",
   "execution_count": 14,
   "metadata": {},
   "outputs": [
    {
     "data": {
      "text/plain": [
       "array([1., 1., 1., 1., 1., 1., 1., 1., 1., 1.])"
      ]
     },
     "execution_count": 14,
     "metadata": {},
     "output_type": "execute_result"
    }
   ],
   "source": [
    "sess.run(change_b)\n",
    "sess.run(b)"
   ]
  },
  {
   "cell_type": "code",
   "execution_count": 15,
   "metadata": {},
   "outputs": [
    {
     "data": {
      "text/plain": [
       "15.791558800761443"
      ]
     },
     "execution_count": 15,
     "metadata": {},
     "output_type": "execute_result"
    }
   ],
   "source": [
    "sess.run(cross_entropy, feed_dict={x:mnist.train.images, y_:mnist.train.labels})"
   ]
  },
  {
   "cell_type": "code",
   "execution_count": 16,
   "metadata": {},
   "outputs": [
    {
     "data": {
      "text/plain": [
       "16.21920152704447"
      ]
     },
     "execution_count": 16,
     "metadata": {},
     "output_type": "execute_result"
    }
   ],
   "source": [
    "sess.run(cross_entropy, feed_dict={x:mnist.test.images, y_:mnist.test.labels})"
   ]
  },
  {
   "cell_type": "markdown",
   "metadata": {},
   "source": [
    "## How to train the network ?"
   ]
  },
  {
   "cell_type": "code",
   "execution_count": 17,
   "metadata": {},
   "outputs": [],
   "source": [
    "# Re init variables to start from scratch\n",
    "sess.run(init)\n",
    "\n",
    "# Create lists for monitoring\n",
    "test_error_list = []\n",
    "train_error_list = []\n",
    "\n",
    "for k in range(20):\n",
    "    # Compute a gradient step\n",
    "    sess.run(train_step, feed_dict={x:mnist.train.images, y_:mnist.train.labels} )\n",
    "    \n",
    "    # Compute the losses on training and testing sets for monitoring\n",
    "    train_err = sess.run(cross_entropy, feed_dict={x:mnist.train.images, y_:mnist.train.labels})\n",
    "    test_err = sess.run(cross_entropy, feed_dict={x:mnist.test.images, y_:mnist.test.labels})\n",
    "    test_error_list.append(test_err)\n",
    "    train_error_list.append(train_err)"
   ]
  },
  {
   "cell_type": "code",
   "execution_count": 18,
   "metadata": {},
   "outputs": [
    {
     "data": {
      "text/plain": [
       "<matplotlib.legend.Legend at 0x3b85848320>"
      ]
     },
     "execution_count": 18,
     "metadata": {},
     "output_type": "execute_result"
    },
    {
     "data": {
      "image/png": "[encoded data removed]",
      "text/plain": [
       "<Figure size 432x288 with 1 Axes>"
      ]
     },
     "metadata": {},
     "output_type": "display_data"
    }
   ],
   "source": [
    "fig,ax = plt.subplots(1)\n",
    "ax.plot(train_error_list, color='blue', label='training', lw=2)\n",
    "ax.plot(test_error_list, color='green', label='testing', lw=2)\n",
    "ax.set_xlabel('Training epoch')\n",
    "ax.set_ylabel('Cross-entropy')\n",
    "plt.legend()"
   ]
  },
  {
   "cell_type": "markdown",
   "metadata": {},
   "source": [
    "For this dataset, training on minibatches accelerates the convergence."
   ]
  },
  {
   "cell_type": "code",
   "execution_count": 19,
   "metadata": {},
   "outputs": [],
   "source": [
    "# Re init variables to start from scratch\n",
    "sess.run(init)\n",
    "\n",
    "# Create some list to monitor how error decreases\n",
    "test_error_list = []\n",
    "train_error_list = []\n",
    "\n",
    "# Create minibtaches to train faster\n",
    "k_batch = 1000\n",
    "X_batch_list = np.array_split(mnist.train.images,k_batch)\n",
    "labels_batch_list = np.array_split(mnist.train.labels,k_batch)\n",
    "\n",
    "for k in range(20):\n",
    "    # Run gradient steps over each minibatch\n",
    "    for x_minibatch,labels_minibatch in zip(X_batch_list,labels_batch_list):\n",
    "        sess.run(train_step, feed_dict={x: x_minibatch, y_:labels_minibatch})\n",
    "        \n",
    "    # Compute the errors over the whole dataset\n",
    "    train_err = sess.run(cross_entropy, feed_dict={x:mnist.train.images, y_:mnist.train.labels})\n",
    "    test_err = sess.run(cross_entropy, feed_dict={x:mnist.test.images, y_:mnist.test.labels})\n",
    "    \n",
    "    # Put it into the lists\n",
    "    test_error_list.append(test_err)\n",
    "    train_error_list.append(train_err)"
   ]
  },
  {
   "cell_type": "code",
   "execution_count": 20,
   "metadata": {},
   "outputs": [
    {
     "data": {
      "text/plain": [
       "<matplotlib.legend.Legend at 0x3b858ae470>"
      ]
     },
     "execution_count": 20,
     "metadata": {},
     "output_type": "execute_result"
    },
    {
     "data": {
      "image/png": "[encoded data removed]",
      "text/plain": [
       "<Figure size 432x288 with 1 Axes>"
      ]
     },
     "metadata": {},
     "output_type": "display_data"
    }
   ],
   "source": [
    "fig,ax = plt.subplots(1)\n",
    "ax.plot(train_error_list, color='blue', label='training', lw=2)\n",
    "ax.plot(test_error_list, color='green', label='testing', lw=2)\n",
    "ax.set_xlabel('Training epoch')\n",
    "ax.set_ylabel('Cross-entropy')\n",
    "plt.legend()"
   ]
  },
  {
   "cell_type": "markdown",
   "metadata": {},
   "source": [
    "It is better to quantify the performance in terms of percentage of success of the classifier.\n",
    "The softmax is therefore replaced by an argmax to strictly get the category with highest probability for each image, and we count the number of imaged classified correctly."
   ]
  },
  {
   "cell_type": "code",
   "execution_count": 22,
   "metadata": {},
   "outputs": [],
   "source": [
    "correct_prediction = tf.equal(tf.argmax(y,1), tf.argmax(y_,1))\n",
    "accuracy = tf.reduce_mean(tf.cast(correct_prediction, tf.float64))"
   ]
  },
  {
   "cell_type": "markdown",
   "metadata": {},
   "source": [
    "Yet tenserflow can only minimize differentiable functions, therefore we use the cross-entropy for the gradient descent steps and the accuracy for monitoring."
   ]
  },
  {
   "cell_type": "code",
   "execution_count": 23,
   "metadata": {},
   "outputs": [],
   "source": [
    "# Re init variables to start from scratch\n",
    "sess.run(init)\n",
    "\n",
    "# Create some list to monitor how error decreases\n",
    "test_error_list = []\n",
    "train_error_list = []\n",
    "\n",
    "test_acc_list = []\n",
    "train_acc_list = []\n",
    "\n",
    "# Create minibtaches to train faster\n",
    "k_batch = 100\n",
    "X_batch_list = np.array_split(mnist.train.images,k_batch)\n",
    "labels_batch_list = np.array_split(mnist.train.labels,k_batch)\n",
    "\n",
    "for k in range(20):\n",
    "    # Run gradient steps over each minibatch\n",
    "    for x_minibatch,labels_minibatch in zip(X_batch_list,labels_batch_list):\n",
    "        sess.run(train_step, feed_dict={x: x_minibatch, y_:labels_minibatch})\n",
    "        \n",
    "    # Compute the errors over the whole dataset\n",
    "    train_err = sess.run(cross_entropy, feed_dict={x:mnist.train.images, y_:mnist.train.labels})\n",
    "    test_err = sess.run(cross_entropy, feed_dict={x:mnist.test.images, y_:mnist.test.labels})\n",
    "    \n",
    "    # Compute the acc over the whole dataset\n",
    "    train_acc = sess.run(accuracy, feed_dict={x:mnist.train.images, y_:mnist.train.labels})\n",
    "    test_acc = sess.run(accuracy, feed_dict={x:mnist.test.images, y_:mnist.test.labels})\n",
    "    \n",
    "    # Put it into the lists\n",
    "    test_error_list.append(test_err)\n",
    "    train_error_list.append(train_err)\n",
    "    test_acc_list.append(test_acc)\n",
    "    train_acc_list.append(train_acc)"
   ]
  },
  {
   "cell_type": "code",
   "execution_count": 24,
   "metadata": {},
   "outputs": [
    {
     "data": {
      "text/plain": [
       "<matplotlib.legend.Legend at 0xe09475fe48>"
      ]
     },
     "execution_count": 24,
     "metadata": {},
     "output_type": "execute_result"
    },
    {
     "data": {
      "image/png": "[encoded data removed]",
      "text/plain": [
       "<Figure size 432x288 with 2 Axes>"
      ]
     },
     "metadata": {},
     "output_type": "display_data"
    }
   ],
   "source": [
    "fig,ax_list = plt.subplots(1,2)\n",
    "ax_list[0].plot(train_error_list, color='blue', label='training', lw=2)\n",
    "ax_list[0].plot(test_error_list, color='green', label='testing', lw=2)\n",
    "ax_list[1].plot(train_acc_list, color='blue', label='training', lw=2)\n",
    "ax_list[1].plot(test_acc_list, color='green', label='testing', lw=2)\n",
    "\n",
    "ax_list[0].set_title('Cross-entropy')\n",
    "ax_list[0].set_xlabel('Training epoch')\n",
    "ax_list[0].set_ylabel('Cross-entropy')\n",
    "ax_list[1].set_title('Accuracy')\n",
    "ax_list[1].set_xlabel('Training epoch')\n",
    "ax_list[1].set_ylabel('Accuracy')\n",
    "plt.legend(loc=2)"
   ]
  },
  {
   "cell_type": "code",
   "execution_count": null,
   "metadata": {},
   "outputs": [],
   "source": []
  }
 ],
 "metadata": {
  "kernelspec": {
   "display_name": "Python 3",
   "language": "python",
   "name": "python3"
  },
  "language_info": {
   "codemirror_mode": {
    "name": "ipython",
    "version": 3
   },
   "file_extension": ".py",
   "mimetype": "text/x-python",
   "name": "python",
   "nbconvert_exporter": "python",
   "pygments_lexer": "ipython3",
   "version": "3.6.5"
  }
 },
 "nbformat": 4,
 "nbformat_minor": 1
}
