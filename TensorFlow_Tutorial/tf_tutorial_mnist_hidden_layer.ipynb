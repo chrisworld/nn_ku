{
 "cells": [
  {
   "cell_type": "markdown",
   "metadata": {},
   "source": [
    "# Tensorflow Tutorial (MNIST with one hidden layer)\n",
    "## Neural Networks (TU Graz 2018)\n",
    "(Adapted from the documentation of tensorflow, find more at: www.tensorflow.org)\n",
    "\n",
    "\n",
    "Improving the MNIST tutorial by adding one hidden layer\n",
    "\n",
    "<img src=\"hidden_layer.png\" style=\"width: 200px;\" />"
   ]
  },
  {
   "cell_type": "code",
   "execution_count": 1,
   "metadata": {},
   "outputs": [],
   "source": [
    "%matplotlib inline"
   ]
  },
  {
   "cell_type": "markdown",
   "metadata": {},
   "source": [
    "Import dataset and libraries.  \n",
    "Please ignore the deprecation warning while importing the MNIST dataset."
   ]
  },
  {
   "cell_type": "code",
   "execution_count": 11,
   "metadata": {},
   "outputs": [
    {
     "name": "stdout",
     "output_type": "stream",
     "text": [
      "Extracting MNIST_data/train-images-idx3-ubyte.gz\n",
      "Extracting MNIST_data/train-labels-idx1-ubyte.gz\n",
      "Extracting MNIST_data/t10k-images-idx3-ubyte.gz\n",
      "Extracting MNIST_data/t10k-labels-idx1-ubyte.gz\n"
     ]
    }
   ],
   "source": [
    "import tensorflow as tf\n",
    "import numpy as np\n",
    "import numpy.random as rd\n",
    "import matplotlib.pyplot as plt\n",
    "\n",
    "from tensorflow.examples.tutorials.mnist import input_data\n",
    "mnist = input_data.read_data_sets(\"MNIST_data/\", one_hot=True)"
   ]
  },
  {
   "cell_type": "markdown",
   "metadata": {},
   "source": [
    "Define your variables and the operations that define the tensorflow model.  \n",
    "- x,y,z do have have numerical values, those are symbolic **\"Tensors\"**\n",
    "- x is a matrix and not a vector, is has shape [None,784]. The first dimension correspond to a **batch size**. Multiplying larger matrices is usually faster that multiplying small ones many times, using minibatches allows to process many images in a single matrix multiplication."
   ]
  },
  {
   "cell_type": "code",
   "execution_count": 3,
   "metadata": {},
   "outputs": [],
   "source": [
    "# Give the dimension of the data and chose the number of hidden layer\n",
    "n_in = 784\n",
    "n_out = 10\n",
    "n_hidden = 20\n",
    "\n",
    "# Set the variables\n",
    "W_hid = tf.Variable(rd.randn(n_in,n_hidden) / np.sqrt(n_in),trainable=True)\n",
    "b_hid = tf.Variable(np.zeros(n_hidden),trainable=True)\n",
    "\n",
    "w_out = tf.Variable(rd.randn(n_hidden,n_out) / np.sqrt(n_in),trainable=True)\n",
    "b_out = tf.Variable(np.zeros(n_out))\n",
    "\n",
    "# Define the neuron operations\n",
    "x = tf.placeholder(shape=(None,784),dtype=tf.float64)\n",
    "y = tf.nn.tanh(tf.matmul(x,W_hid) + b_hid)\n",
    "z = tf.nn.softmax(tf.matmul(y,w_out) + b_out)"
   ]
  },
  {
   "cell_type": "markdown",
   "metadata": {},
   "source": [
    "Define the loss as the cross entropy: $ - \\sum y \\log y'$"
   ]
  },
  {
   "cell_type": "code",
   "execution_count": 4,
   "metadata": {},
   "outputs": [],
   "source": [
    "z_ = tf.placeholder(shape=(None,10),dtype=tf.float64)\n",
    "cross_entropy = tf.reduce_mean(-tf.reduce_sum(z_ * tf.log(z), reduction_indices=[1]))"
   ]
  },
  {
   "cell_type": "markdown",
   "metadata": {},
   "source": [
    "The operation to perform gradient descent.  \n",
    "Note that train_step is still a **symbolic operation**, it needs to be executed to update the variables.\n"
   ]
  },
  {
   "cell_type": "code",
   "execution_count": 23,
   "metadata": {},
   "outputs": [],
   "source": [
    "train_step = tf.train.GradientDescentOptimizer(0.1).minimize(cross_entropy)"
   ]
  },
  {
   "cell_type": "markdown",
   "metadata": {},
   "source": [
    "To evaluate the performance in a readable way, we also compute the classification accuracy."
   ]
  },
  {
   "cell_type": "code",
   "execution_count": 8,
   "metadata": {},
   "outputs": [],
   "source": [
    "correct_prediction = tf.equal(tf.argmax(z,1), tf.argmax(z_,1))\n",
    "accuracy = tf.reduce_mean(tf.cast(correct_prediction, tf.float64))"
   ]
  },
  {
   "cell_type": "markdown",
   "metadata": {},
   "source": [
    "Open a session and initialize the variables."
   ]
  },
  {
   "cell_type": "code",
   "execution_count": 7,
   "metadata": {},
   "outputs": [],
   "source": [
    "init = tf.global_variables_initializer() # Create an op that will\n",
    "sess = tf.Session()\n",
    "sess.run(init) # Set the value of the variables to their initialization value"
   ]
  },
  {
   "cell_type": "code",
   "execution_count": 24,
   "metadata": {},
   "outputs": [
    {
     "name": "stdout",
     "output_type": "stream",
     "text": [
      "iteration 0 test accuracy: 0.760\n",
      "iteration 10 test accuracy: 0.926\n",
      "iteration 20 test accuracy: 0.938\n",
      "iteration 30 test accuracy: 0.943\n",
      "iteration 40 test accuracy: 0.947\n"
     ]
    }
   ],
   "source": [
    "# Re init variables to start from scratch\n",
    "sess.run(init)\n",
    "\n",
    "# Create some list to monitor how error decreases\n",
    "test_loss_list = []\n",
    "train_loss_list = []\n",
    "\n",
    "test_acc_list = []\n",
    "train_acc_list = []\n",
    "\n",
    "# Create minibtaches to train faster\n",
    "k_batch = 100\n",
    "X_batch_list = np.array_split(mnist.train.images,k_batch)\n",
    "labels_batch_list = np.array_split(mnist.train.labels,k_batch)\n",
    "\n",
    "for k in range(50):\n",
    "    # Run gradient steps over each minibatch\n",
    "    for x_minibatch,labels_minibatch in zip(X_batch_list,labels_batch_list):\n",
    "        sess.run(train_step, feed_dict={x: x_minibatch, z_:labels_minibatch})\n",
    "        \n",
    "    # Compute the errors over the whole dataset\n",
    "    train_loss = sess.run(cross_entropy, feed_dict={x:mnist.train.images, z_:mnist.train.labels})\n",
    "    test_loss = sess.run(cross_entropy, feed_dict={x:mnist.test.images, z_:mnist.test.labels})\n",
    "    \n",
    "    # Compute the acc over the whole dataset\n",
    "    train_acc = sess.run(accuracy, feed_dict={x:mnist.train.images, z_:mnist.train.labels})\n",
    "    test_acc = sess.run(accuracy, feed_dict={x:mnist.test.images, z_:mnist.test.labels})\n",
    "    \n",
    "    # Put it into the lists\n",
    "    test_loss_list.append(test_loss)\n",
    "    train_loss_list.append(train_loss)\n",
    "    test_acc_list.append(test_acc)\n",
    "    train_acc_list.append(train_acc)\n",
    "    \n",
    "    if np.mod(k,10) == 0:\n",
    "        print('iteration {} test accuracy: {:.3f}'.format(k+1,test_acc))"
   ]
  },
  {
   "cell_type": "code",
   "execution_count": 25,
   "metadata": {},
   "outputs": [
    {
     "data": {
      "text/plain": [
       "<matplotlib.legend.Legend at 0x7ff01a0e3198>"
      ]
     },
     "execution_count": 25,
     "metadata": {},
     "output_type": "execute_result"
    },
    {
     "data": {
      "image/png": "[encoded data removed]",
      "text/plain": [
       "<Figure size 432x288 with 2 Axes>"
      ]
     },
     "metadata": {},
     "output_type": "display_data"
    }
   ],
   "source": [
    "fig,ax_list = plt.subplots(1,2)\n",
    "ax_list[0].plot(train_loss_list, color='blue', label='training', lw=2)\n",
    "ax_list[0].plot(test_loss_list, color='green', label='testing', lw=2)\n",
    "ax_list[1].plot(train_acc_list, color='blue', label='training', lw=2)\n",
    "ax_list[1].plot(test_acc_list, color='green', label='testing', lw=2)\n",
    "\n",
    "ax_list[0].set_xlabel('training iterations')\n",
    "ax_list[1].set_xlabel('training iterations')\n",
    "ax_list[0].set_ylabel('Cross-entropy')\n",
    "ax_list[1].set_ylabel('Accuracy')\n",
    "plt.legend(loc=2)"
   ]
  }
 ],
 "metadata": {
  "kernelspec": {
   "display_name": "Python 3",
   "language": "python",
   "name": "python3"
  },
  "language_info": {
   "codemirror_mode": {
    "name": "ipython",
    "version": 3
   },
   "file_extension": ".py",
   "mimetype": "text/x-python",
   "name": "python",
   "nbconvert_exporter": "python",
   "pygments_lexer": "ipython3",
   "version": "3.6.5"
  }
 },
 "nbformat": 4,
 "nbformat_minor": 1
}
